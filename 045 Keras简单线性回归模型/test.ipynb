{
 "cells": [
  {
   "cell_type": "code",
   "execution_count": 15,
   "metadata": {},
   "outputs": [
    {
     "data": {
      "image/png": "[encoded data removed]",
      "text/plain": [
       "<Figure size 432x288 with 1 Axes>"
      ]
     },
     "metadata": {},
     "output_type": "display_data"
    },
    {
     "name": "stdout",
     "output_type": "stream",
     "text": [
      "Training--------------\n",
      "train_cost:  4.0225005\n",
      "train_cost:  0.07323862\n",
      "train_cost:  0.00386274\n",
      "train_cost:  0.0026434488\n",
      "train_cost:  0.0026218705\n",
      "train_cost:  0.0026214505\n",
      "train_cost:  0.0026214316\n",
      "train_cost:  0.0026214297\n",
      "train_cost:  0.0026214279\n",
      "train_cost:  0.0026214276\n",
      "train_cost:  0.0026214283\n",
      "train_cost:  0.0026214286\n",
      "train_cost:  0.0026214286\n",
      "train_cost:  0.0026214286\n",
      "train_cost:  0.0026214286\n",
      "train_cost:  0.0026214286\n",
      "train_cost:  0.0026214286\n",
      "train_cost:  0.0026214286\n",
      "train_cost:  0.0026214286\n",
      "train_cost:  0.0026214286\n",
      "train_cost:  0.0026214286\n",
      "train_cost:  0.0026214286\n",
      "train_cost:  0.0026214286\n",
      "train_cost:  0.0026214286\n",
      "train_cost:  0.0026214286\n",
      "train_cost:  0.0026214286\n",
      "train_cost:  0.0026214286\n",
      "train_cost:  0.0026214286\n",
      "train_cost:  0.0026214286\n",
      "train_cost:  0.0026214286\n",
      "train_cost:  0.0026214286\n",
      "train_cost:  0.0026214286\n",
      "train_cost:  0.0026214286\n",
      "train_cost:  0.0026214286\n",
      "train_cost:  0.0026214286\n",
      "train_cost:  0.0026214286\n",
      "train_cost:  0.0026214286\n",
      "train_cost:  0.0026214286\n",
      "train_cost:  0.0026214286\n",
      "train_cost:  0.0026214286\n",
      "train_cost:  0.0026214286\n",
      "train_cost:  0.0026214286\n",
      "train_cost:  0.0026214286\n",
      "train_cost:  0.0026214286\n",
      "train_cost:  0.0026214286\n",
      "train_cost:  0.0026214286\n",
      "train_cost:  0.0026214286\n",
      "train_cost:  0.0026214286\n",
      "train_cost:  0.0026214286\n",
      "train_cost:  0.0026214286\n",
      "train_cost:  0.0026214286\n",
      "\n",
      "Testing--------------\n",
      "40/40 [==============================] - 0s 1ms/step\n",
      "test cost: 0.0032470733858644962\n",
      "weight=  [[0.49136025]] \n",
      "biases= [2.004053]\n"
     ]
    },
    {
     "data": {
      "image/png": "[encoded data removed]",
      "text/plain": [
       "<Figure size 432x288 with 1 Axes>"
      ]
     },
     "metadata": {},
     "output_type": "display_data"
    }
   ],
   "source": [
    "# -*- coding: utf-8 -*-\n",
    "import numpy as np\n",
    "np.random.seed(1337)\n",
    "from keras.models import Sequential\n",
    "from keras.layers import Dense\n",
    "import matplotlib.pyplot as plt\n",
    "#/*创建数据集*/\n",
    "X=np.linspace(-1,1,200)\n",
    "np.random.shuffle(X)\n",
    "Y=0.5*X+2+np.random.normal(0,0.05,(200,))\n",
    "#/*可视化*/\n",
    "plt.scatter(X,Y)\n",
    "plt.show()\n",
    "X_train,Y_train=X[:160],Y[:160]\n",
    "X_test,Y_test=X[160:],Y[160:]\n",
    "\n",
    "#/*建立神经网络模型*/\n",
    "model=Sequential()\n",
    "model.add(Dense(input_dim=1,units=1))\n",
    "\n",
    "#/*编译，选定loss函数和优化器*/\n",
    "model.compile(loss='mse',optimizer='sgd')\n",
    "\n",
    "#/*训练过程*/\n",
    "print('Training--------------')\n",
    "for  step in range(5001):\n",
    "    cost=model.train_on_batch(X_train,Y_train)\n",
    "    if step%100==0:\n",
    "        print('train_cost: ',cost)\n",
    "#/*测试过程*/\n",
    "print('\\nTesting--------------')\n",
    "cost=model.evaluate(X_test,Y_test,batch_size=40)\n",
    "print('test cost:',cost)\n",
    "W, b=model.layers[0].get_weights()\n",
    "print('weight= ',W,'\\nbiases=',b)\n",
    "\n",
    "#/*结果的可视化*/\n",
    "Y_pred=model.predict(X_test)\n",
    "plt.scatter(X_test,Y_test)\n",
    "plt.plot(X_test,Y_pred)\n",
    "plt.show()\n"
   ]
  },
  {
   "cell_type": "code",
   "execution_count": null,
   "metadata": {},
   "outputs": [],
   "source": []
  }
 ],
 "metadata": {
  "kernelspec": {
   "display_name": "Python 3",
   "language": "python",
   "name": "python3"
  },
  "language_info": {
   "codemirror_mode": {
    "name": "ipython",
    "version": 3
   },
   "file_extension": ".py",
   "mimetype": "text/x-python",
   "name": "python",
   "nbconvert_exporter": "python",
   "pygments_lexer": "ipython3",
   "version": "3.6.5"
  }
 },
 "nbformat": 4,
 "nbformat_minor": 2
}
