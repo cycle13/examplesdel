{
 "cells": [
  {
   "cell_type": "code",
   "execution_count": 1,
   "metadata": {},
   "outputs": [
    {
     "name": "stderr",
     "output_type": "stream",
     "text": [
      "Using TensorFlow backend.\n"
     ]
    }
   ],
   "source": [
    "import os, shutil, random, glob\n",
    "import cv2\n",
    "import numpy as np\n",
    "import pandas as pd\n",
    "import keras\n",
    "from keras.utils import plot_model  \n",
    "from keras.applications.resnet50 import ResNet50  \n",
    "from keras.applications.vgg16 import VGG16  \n",
    "from keras.applications.inception_v3 import InceptionV3  \n",
    "from keras.layers import Dense, Flatten, GlobalAveragePooling2D, Dropout\n",
    "from keras.models import Model, load_model  \n",
    "from keras.optimizers import SGD  \n",
    "from keras.preprocessing.image import ImageDataGenerator  \n",
    "import matplotlib.pyplot as plt  "
   ]
  },
  {
   "cell_type": "code",
   "execution_count": 2,
   "metadata": {},
   "outputs": [],
   "source": [
    "resize = 224\n",
    "def load_data():\n",
    "    imgs = os.listdir(\"./train/\")\n",
    "    num = len(imgs)\n",
    "    train_data = np.empty((500, resize, resize, 3), dtype=\"int32\")\n",
    "    train_label = np.empty((500, ), dtype=\"int32\")\n",
    "    test_data = np.empty((500, resize, resize, 3), dtype=\"int32\")\n",
    "    test_label = np.empty((500, ), dtype=\"int32\")\n",
    "    for i in range(500):\n",
    "        if i % 2:\n",
    "            train_data[i] = cv2.resize(cv2.imread('./train/' + 'dog.' + str(i) + '.jpg'), (resize, resize))\n",
    "            train_label[i] = 1\n",
    "        else:\n",
    "            train_data[i] = cv2.resize(cv2.imread('./train/' + 'cat.' + str(i) + '.jpg'), (resize, resize))\n",
    "            train_label[i] = 0\n",
    "    for i in range(500, 1000):\n",
    "        if i % 2:\n",
    "            test_data[i-500] = cv2.resize(cv2.imread('./train/' + 'dog.' + str(i) + '.jpg'), (resize, resize))\n",
    "            test_label[i-500] = 1\n",
    "        else:\n",
    "            test_data[i-500] = cv2.resize(cv2.imread('./train/' + 'cat.' + str(i) + '.jpg'), (resize, resize))\n",
    "            test_label[i-500] = 0\n",
    "    return train_data, train_label, test_data, test_label"
   ]
  },
  {
   "cell_type": "code",
   "execution_count": 3,
   "metadata": {},
   "outputs": [],
   "source": [
    "train_data, train_label, test_data, test_label = load_data()\n",
    "train_data, test_data = train_data.astype('float32'), test_data.astype('float32')\n",
    "train_data, test_data = train_data/255, test_data/255"
   ]
  },
  {
   "cell_type": "code",
   "execution_count": 4,
   "metadata": {},
   "outputs": [],
   "source": [
    "train_label = keras.utils.to_categorical(train_label, 2)\n",
    "test_label = keras.utils.to_categorical(test_label, 2)"
   ]
  },
  {
   "cell_type": "code",
   "execution_count": 5,
   "metadata": {
    "scrolled": false
   },
   "outputs": [],
   "source": [
    "base_model = VGG16(weights='imagenet', include_top=False, pooling=None, input_shape=(resize, resize, 3), classes = 2)\n",
    "for layer in base_model.layers:\n",
    "    layer.trainable = False\n",
    "x = base_model.output\n",
    "x = GlobalAveragePooling2D()(x)\n",
    "x = Dense(64, activation='relu')(x)\n",
    "x = Dropout(0.5)(x)\n",
    "predictions = Dense(2, activation='sigmoid')(x)\n",
    "\n",
    "model = Model(inputs=base_model.input, outputs=predictions)\n",
    "model.compile(loss='binary_crossentropy',\n",
    "              optimizer='rmsprop',\n",
    "              metrics=['accuracy'])"
   ]
  },
  {
   "cell_type": "code",
   "execution_count": 7,
   "metadata": {},
   "outputs": [
    {
     "name": "stdout",
     "output_type": "stream",
     "text": [
      "Train on 400 samples, validate on 100 samples\n",
      "Epoch 1/50\n",
      "400/400 [==============================] - 640s 2s/step - loss: 0.1722 - acc: 0.9537 - val_loss: 0.1961 - val_acc: 0.9500\n",
      "Epoch 2/50\n",
      "400/400 [==============================] - 702s 2s/step - loss: 0.1637 - acc: 0.9475 - val_loss: 0.1946 - val_acc: 0.9450\n",
      "Epoch 3/50\n",
      "400/400 [==============================] - 673s 2s/step - loss: 0.1827 - acc: 0.9375 - val_loss: 0.2009 - val_acc: 0.9150\n",
      "Epoch 4/50\n",
      "400/400 [==============================] - 594s 1s/step - loss: 0.1458 - acc: 0.9563 - val_loss: 0.2060 - val_acc: 0.9050\n",
      "Epoch 5/50\n",
      "400/400 [==============================] - 555s 1s/step - loss: 0.1718 - acc: 0.9275 - val_loss: 0.2248 - val_acc: 0.9300\n",
      "Epoch 6/50\n",
      "400/400 [==============================] - 549s 1s/step - loss: 0.1610 - acc: 0.9475 - val_loss: 0.1925 - val_acc: 0.9500\n",
      "Epoch 7/50\n",
      "400/400 [==============================] - 552s 1s/step - loss: 0.1434 - acc: 0.9612 - val_loss: 0.1933 - val_acc: 0.9500\n",
      "Epoch 8/50\n",
      "400/400 [==============================] - 556s 1s/step - loss: 0.1524 - acc: 0.9500 - val_loss: 0.1949 - val_acc: 0.9400\n",
      "Epoch 9/50\n",
      "400/400 [==============================] - 555s 1s/step - loss: 0.1484 - acc: 0.9487 - val_loss: 0.2137 - val_acc: 0.8850\n",
      "Epoch 10/50\n",
      "400/400 [==============================] - 565s 1s/step - loss: 0.1504 - acc: 0.9500 - val_loss: 0.1907 - val_acc: 0.9500\n",
      "Epoch 11/50\n",
      "400/400 [==============================] - 547s 1s/step - loss: 0.1510 - acc: 0.9475 - val_loss: 0.1895 - val_acc: 0.9500\n",
      "Epoch 12/50\n",
      "400/400 [==============================] - 572s 1s/step - loss: 0.1265 - acc: 0.9537 - val_loss: 0.1978 - val_acc: 0.9150\n",
      "Epoch 13/50\n",
      "400/400 [==============================] - 572s 1s/step - loss: 0.1386 - acc: 0.9587 - val_loss: 0.1978 - val_acc: 0.9250\n",
      "Epoch 14/50\n",
      "400/400 [==============================] - 563s 1s/step - loss: 0.1608 - acc: 0.9387 - val_loss: 0.2379 - val_acc: 0.8700\n",
      "Epoch 15/50\n",
      "400/400 [==============================] - 572s 1s/step - loss: 0.1275 - acc: 0.9600 - val_loss: 0.2127 - val_acc: 0.8900\n",
      "Epoch 16/50\n",
      "400/400 [==============================] - 579s 1s/step - loss: 0.1360 - acc: 0.9550 - val_loss: 0.1846 - val_acc: 0.9500\n",
      "Epoch 17/50\n",
      "400/400 [==============================] - 576s 1s/step - loss: 0.1316 - acc: 0.9600 - val_loss: 0.2301 - val_acc: 0.8800\n",
      "Epoch 18/50\n",
      "400/400 [==============================] - 574s 1s/step - loss: 0.1362 - acc: 0.9563 - val_loss: 0.1952 - val_acc: 0.9250\n",
      "Epoch 19/50\n",
      "400/400 [==============================] - 582s 1s/step - loss: 0.1293 - acc: 0.9625 - val_loss: 0.1897 - val_acc: 0.9400\n",
      "Epoch 20/50\n",
      "400/400 [==============================] - 584s 1s/step - loss: 0.1228 - acc: 0.9637 - val_loss: 0.1858 - val_acc: 0.9450\n",
      "Epoch 21/50\n",
      "400/400 [==============================] - 573s 1s/step - loss: 0.1304 - acc: 0.9525 - val_loss: 0.2134 - val_acc: 0.9150\n",
      "Epoch 22/50\n",
      "400/400 [==============================] - 573s 1s/step - loss: 0.1092 - acc: 0.9675 - val_loss: 0.1889 - val_acc: 0.9400\n",
      "Epoch 23/50\n",
      "400/400 [==============================] - 571s 1s/step - loss: 0.1234 - acc: 0.9513 - val_loss: 0.2846 - val_acc: 0.8700\n",
      "Epoch 24/50\n",
      "400/400 [==============================] - 575s 1s/step - loss: 0.1122 - acc: 0.9662 - val_loss: 0.1852 - val_acc: 0.9400\n",
      "Epoch 25/50\n",
      "400/400 [==============================] - 570s 1s/step - loss: 0.1090 - acc: 0.9637 - val_loss: 0.1822 - val_acc: 0.9500\n",
      "Epoch 26/50\n",
      "400/400 [==============================] - 565s 1s/step - loss: 0.1173 - acc: 0.9563 - val_loss: 0.2292 - val_acc: 0.9100\n",
      "Epoch 27/50\n",
      "400/400 [==============================] - 589s 1s/step - loss: 0.1226 - acc: 0.9600 - val_loss: 0.2490 - val_acc: 0.8700\n",
      "Epoch 28/50\n",
      "400/400 [==============================] - 576s 1s/step - loss: 0.1091 - acc: 0.9700 - val_loss: 0.1828 - val_acc: 0.9500\n",
      "Epoch 29/50\n",
      "400/400 [==============================] - 578s 1s/step - loss: 0.1134 - acc: 0.9700 - val_loss: 0.1859 - val_acc: 0.9300\n",
      "Epoch 30/50\n",
      "400/400 [==============================] - 578s 1s/step - loss: 0.1122 - acc: 0.9625 - val_loss: 0.1866 - val_acc: 0.9300\n",
      "Epoch 31/50\n",
      "400/400 [==============================] - 597s 1s/step - loss: 0.1054 - acc: 0.9700 - val_loss: 0.1887 - val_acc: 0.9400\n",
      "Epoch 32/50\n",
      "400/400 [==============================] - 585s 1s/step - loss: 0.0969 - acc: 0.9713 - val_loss: 0.1986 - val_acc: 0.8950\n",
      "Epoch 33/50\n",
      "400/400 [==============================] - 582s 1s/step - loss: 0.0982 - acc: 0.9775 - val_loss: 0.1837 - val_acc: 0.9450\n",
      "Epoch 34/50\n",
      "400/400 [==============================] - 581s 1s/step - loss: 0.1112 - acc: 0.9675 - val_loss: 0.1817 - val_acc: 0.9500\n",
      "Epoch 35/50\n",
      "400/400 [==============================] - 588s 1s/step - loss: 0.1012 - acc: 0.9700 - val_loss: 0.2205 - val_acc: 0.8800\n",
      "Epoch 36/50\n",
      "400/400 [==============================] - 586s 1s/step - loss: 0.0939 - acc: 0.9788 - val_loss: 0.1930 - val_acc: 0.9050\n",
      "Epoch 37/50\n",
      "400/400 [==============================] - 589s 1s/step - loss: 0.0921 - acc: 0.9688 - val_loss: 0.1796 - val_acc: 0.9450\n",
      "Epoch 38/50\n",
      "400/400 [==============================] - 588s 1s/step - loss: 0.0964 - acc: 0.9738 - val_loss: 0.1781 - val_acc: 0.9500\n",
      "Epoch 39/50\n",
      "400/400 [==============================] - 653s 2s/step - loss: 0.0963 - acc: 0.9725 - val_loss: 0.2005 - val_acc: 0.8950\n",
      "Epoch 40/50\n",
      "400/400 [==============================] - 781s 2s/step - loss: 0.0903 - acc: 0.9700 - val_loss: 0.1878 - val_acc: 0.9400\n",
      "Epoch 41/50\n",
      "400/400 [==============================] - 804s 2s/step - loss: 0.0867 - acc: 0.9750 - val_loss: 0.2063 - val_acc: 0.8900\n",
      "Epoch 42/50\n",
      "400/400 [==============================] - 785s 2s/step - loss: 0.0838 - acc: 0.9700 - val_loss: 0.1938 - val_acc: 0.9150\n",
      "Epoch 43/50\n",
      "400/400 [==============================] - 790s 2s/step - loss: 0.0860 - acc: 0.9775 - val_loss: 0.1835 - val_acc: 0.9400\n",
      "Epoch 44/50\n",
      "400/400 [==============================] - 770s 2s/step - loss: 0.0994 - acc: 0.9700 - val_loss: 0.2459 - val_acc: 0.8800\n",
      "Epoch 45/50\n",
      "400/400 [==============================] - 791s 2s/step - loss: 0.0772 - acc: 0.9750 - val_loss: 0.2110 - val_acc: 0.9050\n",
      "Epoch 46/50\n",
      "400/400 [==============================] - 788s 2s/step - loss: 0.0918 - acc: 0.9713 - val_loss: 0.1795 - val_acc: 0.9450\n",
      "Epoch 47/50\n",
      "400/400 [==============================] - 796s 2s/step - loss: 0.0818 - acc: 0.9800 - val_loss: 0.1945 - val_acc: 0.9050\n",
      "Epoch 48/50\n",
      "400/400 [==============================] - 792s 2s/step - loss: 0.0835 - acc: 0.9800 - val_loss: 0.1819 - val_acc: 0.9500\n",
      "Epoch 49/50\n",
      "400/400 [==============================] - 790s 2s/step - loss: 0.0771 - acc: 0.9812 - val_loss: 0.2190 - val_acc: 0.9000\n",
      "Epoch 50/50\n",
      "400/400 [==============================] - 783s 2s/step - loss: 0.0878 - acc: 0.9788 - val_loss: 0.1912 - val_acc: 0.9250\n"
     ]
    },
    {
     "data": {
      "text/plain": [
       "<keras.callbacks.History at 0x168c9080>"
      ]
     },
     "execution_count": 7,
     "metadata": {},
     "output_type": "execute_result"
    }
   ],
   "source": [
    "model.fit(train_data, train_label,\n",
    "          batch_size = 64,\n",
    "          epochs = 50,\n",
    "          validation_split = 0.2,\n",
    "          shuffle = True)"
   ]
  },
  {
   "cell_type": "code",
   "execution_count": 8,
   "metadata": {},
   "outputs": [
    {
     "name": "stdout",
     "output_type": "stream",
     "text": [
      "500/500 [==============================] - 299s 597ms/step\n",
      "[0.08602091193199157, 0.972]\n"
     ]
    }
   ],
   "source": [
    "scores = model.evaluate(train_data, train_label, verbose = 1)\n",
    "print(scores)"
   ]
  },
  {
   "cell_type": "code",
   "execution_count": 9,
   "metadata": {},
   "outputs": [
    {
     "name": "stdout",
     "output_type": "stream",
     "text": [
      "500/500 [==============================] - 303s 606ms/step\n",
      "[0.23462430983781815, 0.8979999995231629]\n"
     ]
    }
   ],
   "source": [
    "scores = model.evaluate(test_data, test_label, verbose = 1)\n",
    "print(scores)"
   ]
  },
  {
   "cell_type": "code",
   "execution_count": null,
   "metadata": {},
   "outputs": [],
   "source": []
  }
 ],
 "metadata": {
  "kernelspec": {
   "display_name": "Python 3",
   "language": "python",
   "name": "python3"
  },
  "language_info": {
   "codemirror_mode": {
    "name": "ipython",
    "version": 3
   },
   "file_extension": ".py",
   "mimetype": "text/x-python",
   "name": "python",
   "nbconvert_exporter": "python",
   "pygments_lexer": "ipython3",
   "version": "3.6.5"
  }
 },
 "nbformat": 4,
 "nbformat_minor": 2
}
