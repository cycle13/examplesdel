{
 "cells": [
  {
   "cell_type": "code",
   "execution_count": 14,
   "metadata": {},
   "outputs": [],
   "source": [
    "from __future__ import print_function\n",
    "import keras\n",
    "from keras.datasets import mnist\n",
    "from keras.models import Sequential\n",
    "from keras.layers import Dense, Dropout, Flatten\n",
    "from keras.layers import Conv2D, MaxPooling2D\n",
    "from keras.optimizers import SGD\n",
    "from keras import backend as K\n",
    "import matplotlib.pyplot as plt"
   ]
  },
  {
   "cell_type": "code",
   "execution_count": 15,
   "metadata": {},
   "outputs": [
    {
     "data": {
      "text/plain": [
       "(60000, 28, 28)"
      ]
     },
     "execution_count": 15,
     "metadata": {},
     "output_type": "execute_result"
    }
   ],
   "source": [
    "batch_size = 128 #每一轮训练的batch大小\n",
    "num_classes = 10 #类型数量\n",
    "epochs = 12 #训练轮次数\n",
    "\n",
    "img_rows, img_cols = 28, 28 #MNIST数据集图像大小28*28\n",
    "\n",
    "(x_train, y_train), (x_test, y_test) = mnist.load_data() #载入数据集，数组是三维的\n",
    "x_train.shape"
   ]
  },
  {
   "cell_type": "code",
   "execution_count": 16,
   "metadata": {},
   "outputs": [
    {
     "data": {
      "text/plain": [
       "(60000,)"
      ]
     },
     "execution_count": 16,
     "metadata": {},
     "output_type": "execute_result"
    }
   ],
   "source": [
    "y_train.shape"
   ]
  },
  {
   "cell_type": "code",
   "execution_count": 17,
   "metadata": {},
   "outputs": [
    {
     "data": {
      "text/plain": [
       "(60000, 28, 28, 1)"
      ]
     },
     "execution_count": 17,
     "metadata": {},
     "output_type": "execute_result"
    }
   ],
   "source": [
    "# reshape\n",
    "if K.image_data_format() == 'channels_first': #查看环境下的image_data_format()值是'channels_first'还是'channels_last'\n",
    "    x_train = x_train.reshape(x_train.shape[0], 1, img_rows, img_cols)\n",
    "    x_test = x_test.reshape(x_test.shape[0], 1, img_rows, img_cols)\n",
    "    input_shape = (1, img_rows, img_cols)\n",
    "else:\n",
    "    x_train = x_train.reshape(x_train.shape[0], img_rows, img_cols, 1) #按照Keras要求把数据集转化为加入通道数的四位\n",
    "    x_test = x_test.reshape(x_test.shape[0], img_rows, img_cols, 1) #黑白图像，channel数为1\n",
    "    input_shape = (img_rows, img_cols, 1)\n",
    "x_train.shape"
   ]
  },
  {
   "cell_type": "code",
   "execution_count": 18,
   "metadata": {},
   "outputs": [
    {
     "data": {
      "image/png": "[encoded data removed]",
      "text/plain": [
       "<Figure size 432x288 with 1 Axes>"
      ]
     },
     "metadata": {},
     "output_type": "display_data"
    }
   ],
   "source": [
    "fig = plt.figure()\n",
    "plt.imshow(x_train[1, :, :, 0],cmap = 'binary')#黑白显示\n",
    "plt.show()"
   ]
  },
  {
   "cell_type": "code",
   "execution_count": 19,
   "metadata": {},
   "outputs": [
    {
     "name": "stdout",
     "output_type": "stream",
     "text": [
      "x_train shape: (60000, 28, 28, 1)\n",
      "60000 train samples\n",
      "10000 test samples\n"
     ]
    }
   ],
   "source": [
    "x_train = x_train.astype('float32') #按照Keras要求把数据集由整形转化为浮点型\n",
    "x_test = x_test.astype('float32')\n",
    "x_train /= 255 #像素值除以255，转化为小数，加速收敛\n",
    "x_test /= 255\n",
    "print('x_train shape:', x_train.shape)\n",
    "print(x_train.shape[0], 'train samples')\n",
    "print(x_test.shape[0], 'test samples')"
   ]
  },
  {
   "cell_type": "code",
   "execution_count": 20,
   "metadata": {},
   "outputs": [
    {
     "data": {
      "text/plain": [
       "5"
      ]
     },
     "execution_count": 20,
     "metadata": {},
     "output_type": "execute_result"
    }
   ],
   "source": [
    "y_train[0]"
   ]
  },
  {
   "cell_type": "code",
   "execution_count": 21,
   "metadata": {},
   "outputs": [],
   "source": [
    "y_train = keras.utils.to_categorical(y_train, num_classes) # 将label进行one-hot编码\n",
    "y_test = keras.utils.to_categorical(y_test, num_classes)"
   ]
  },
  {
   "cell_type": "code",
   "execution_count": 22,
   "metadata": {},
   "outputs": [
    {
     "data": {
      "text/plain": [
       "array([0., 0., 0., 0., 0., 1., 0., 0., 0., 0.], dtype=float32)"
      ]
     },
     "execution_count": 22,
     "metadata": {},
     "output_type": "execute_result"
    }
   ],
   "source": [
    "y_train[0]"
   ]
  },
  {
   "cell_type": "code",
   "execution_count": 23,
   "metadata": {},
   "outputs": [],
   "source": [
    "model = Sequential()\n",
    "model.add(Conv2D(filters=6, kernel_size=(5,5), \n",
    "                 padding='valid', \n",
    "                 input_shape=input_shape, \n",
    "                 activation='tanh'))\n",
    "model.add(MaxPooling2D(pool_size=(2,2)))\n",
    "model.add(Conv2D(filters=16, kernel_size=(5,5), \n",
    "                 padding='valid', \n",
    "                 activation='tanh')) #双曲正切函数作激活函数 tanhx = (e^x-e^-x)/(e^x+e^-x)\n",
    "model.add(MaxPooling2D(pool_size=(2,2)))\n",
    "model.add(Flatten())\n",
    "model.add(Dense(120, activation='tanh'))\n",
    "model.add(Dense(84, activation='tanh'))\n",
    "model.add(Dense(10, activation='softmax')) #softmax函数做激活函数 e^x/(sum(e^x))\n",
    "\n",
    "sgd = SGD(lr=0.05, decay=1e-6, momentum=0.9, nesterov=True) #采用随机梯度下降法作为优化算法\n",
    "model.compile(optimizer=sgd, \n",
    "              loss='categorical_crossentropy', #多分类的对数损失函数 -logP(Y|X)\n",
    "              metrics=['accuracy'])"
   ]
  },
  {
   "cell_type": "code",
   "execution_count": 24,
   "metadata": {},
   "outputs": [
    {
     "name": "stdout",
     "output_type": "stream",
     "text": [
      "Train on 48000 samples, validate on 12000 samples\n",
      "Epoch 1/12\n",
      "48000/48000 [==============================] - 17s 356us/step - loss: 0.2038 - acc: 0.9380 - val_loss: 0.0714 - val_acc: 0.9778\n",
      "Epoch 2/12\n",
      "48000/48000 [==============================] - 22s 465us/step - loss: 0.0616 - acc: 0.9804 - val_loss: 0.0537 - val_acc: 0.9843\n",
      "Epoch 3/12\n",
      "48000/48000 [==============================] - 30s 631us/step - loss: 0.0409 - acc: 0.9878 - val_loss: 0.0491 - val_acc: 0.9848\n",
      "Epoch 4/12\n",
      "48000/48000 [==============================] - 29s 608us/step - loss: 0.0305 - acc: 0.9912 - val_loss: 0.0425 - val_acc: 0.9858\n",
      "Epoch 5/12\n",
      "48000/48000 [==============================] - 31s 645us/step - loss: 0.0242 - acc: 0.9925 - val_loss: 0.0453 - val_acc: 0.9855\n",
      "Epoch 6/12\n",
      "48000/48000 [==============================] - 30s 622us/step - loss: 0.0182 - acc: 0.9945 - val_loss: 0.0408 - val_acc: 0.9875\n",
      "Epoch 7/12\n",
      "48000/48000 [==============================] - 26s 545us/step - loss: 0.0127 - acc: 0.9962 - val_loss: 0.0410 - val_acc: 0.9882\n",
      "Epoch 8/12\n",
      "48000/48000 [==============================] - 29s 598us/step - loss: 0.0097 - acc: 0.9976 - val_loss: 0.0421 - val_acc: 0.9881\n",
      "Epoch 9/12\n",
      "48000/48000 [==============================] - 28s 584us/step - loss: 0.0069 - acc: 0.9985 - val_loss: 0.0414 - val_acc: 0.9871\n",
      "Epoch 10/12\n",
      "48000/48000 [==============================] - 28s 584us/step - loss: 0.0055 - acc: 0.9988 - val_loss: 0.0401 - val_acc: 0.9879\n",
      "Epoch 11/12\n",
      "48000/48000 [==============================] - 29s 610us/step - loss: 0.0035 - acc: 0.9994 - val_loss: 0.0417 - val_acc: 0.9879\n",
      "Epoch 12/12\n",
      "48000/48000 [==============================] - 30s 618us/step - loss: 0.0025 - acc: 0.9996 - val_loss: 0.0437 - val_acc: 0.9874\n"
     ]
    },
    {
     "data": {
      "text/plain": [
       "<keras.callbacks.History at 0x51a4eb8>"
      ]
     },
     "execution_count": 24,
     "metadata": {},
     "output_type": "execute_result"
    }
   ],
   "source": [
    "model.fit(x_train, y_train,\n",
    "          batch_size=batch_size,\n",
    "          epochs=epochs,\n",
    "          validation_split = 0.2,\n",
    "          shuffle=True) #训练数据会被随即打乱"
   ]
  },
  {
   "cell_type": "code",
   "execution_count": 25,
   "metadata": {},
   "outputs": [
    {
     "name": "stdout",
     "output_type": "stream",
     "text": [
      "Test loss: 0.010696467744738524\n",
      "Test accuracy: 0.9971833333333333\n"
     ]
    }
   ],
   "source": [
    "score = model.evaluate(x_train, y_train, verbose=0)\n",
    "print('Test loss:', score[0])\n",
    "print('Test accuracy:', score[1])"
   ]
  },
  {
   "cell_type": "code",
   "execution_count": 26,
   "metadata": {},
   "outputs": [
    {
     "name": "stdout",
     "output_type": "stream",
     "text": [
      "Test loss: 0.03293680591438897\n",
      "Test accuracy: 0.9903\n"
     ]
    }
   ],
   "source": [
    "score = model.evaluate(x_test, y_test, verbose=0)\n",
    "print('Test loss:', score[0])\n",
    "print('Test accuracy:', score[1])"
   ]
  },
  {
   "cell_type": "code",
   "execution_count": null,
   "metadata": {},
   "outputs": [],
   "source": []
  },
  {
   "cell_type": "code",
   "execution_count": null,
   "metadata": {},
   "outputs": [],
   "source": []
  }
 ],
 "metadata": {
  "kernelspec": {
   "display_name": "Python 3",
   "language": "python",
   "name": "python3"
  },
  "language_info": {
   "codemirror_mode": {
    "name": "ipython",
    "version": 3
   },
   "file_extension": ".py",
   "mimetype": "text/x-python",
   "name": "python",
   "nbconvert_exporter": "python",
   "pygments_lexer": "ipython3",
   "version": "3.6.5"
  }
 },
 "nbformat": 4,
 "nbformat_minor": 2
}
