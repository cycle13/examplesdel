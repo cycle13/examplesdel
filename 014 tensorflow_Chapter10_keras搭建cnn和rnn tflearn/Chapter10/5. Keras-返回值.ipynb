{
 "cells": [
  {
   "cell_type": "markdown",
   "metadata": {},
   "source": [
    "### 1. 数据预处理。"
   ]
  },
  {
   "cell_type": "code",
   "execution_count": 1,
   "metadata": {},
   "outputs": [
    {
     "name": "stderr",
     "output_type": "stream",
     "text": [
      "D:\\ProgramData\\Anaconda3\\lib\\site-packages\\h5py\\__init__.py:36: FutureWarning: Conversion of the second argument of issubdtype from `float` to `np.floating` is deprecated. In future, it will be treated as `np.float64 == np.dtype(float).type`.\n",
      "  from ._conv import register_converters as _register_converters\n",
      "Using TensorFlow backend.\n"
     ]
    },
    {
     "name": "stdout",
     "output_type": "stream",
     "text": [
      "curses is not supported on this machine (please install/reinstall curses for an optimal experience)\n"
     ]
    }
   ],
   "source": [
    "import keras\n",
    "from tflearn.layers.core import fully_connected\n",
    "from keras.datasets import mnist\n",
    "from keras.layers import Input, Dense\n",
    "from keras.models import Model\n",
    "\n",
    "num_classes = 10\n",
    "img_rows, img_cols = 28, 28\n",
    " \n",
    "# 通过Keras封装好的API加载MNIST数据。\n",
    "(trainX, trainY), (testX, testY) = mnist.load_data()\n",
    "trainX = trainX.reshape(trainX.shape[0], img_rows * img_cols)\n",
    "testX = testX.reshape(testX.shape[0], img_rows * img_cols)\n",
    " \n",
    "# 将图像像素转化为0到1之间的实数。\n",
    "trainX = trainX.astype('float32')\n",
    "testX = testX.astype('float32')\n",
    "trainX /= 255.0\n",
    "testX /= 255.0\n",
    " \n",
    "# 将标准答案转化为需要的格式（one-hot编码）。\n",
    "trainY = keras.utils.to_categorical(trainY, num_classes)\n",
    "testY = keras.utils.to_categorical(testY, num_classes)"
   ]
  },
  {
   "cell_type": "markdown",
   "metadata": {},
   "source": [
    "### 2. 通过返回值的方式定义模型。"
   ]
  },
  {
   "cell_type": "code",
   "execution_count": 2,
   "metadata": {},
   "outputs": [],
   "source": [
    "inputs = Input(shape=(784,))\n",
    "\n",
    "x = Dense(500, activation='relu')(inputs)\n",
    "predictions = Dense(10, activation='softmax')(x)\n",
    "\n",
    "model = Model(inputs=inputs, outputs=predictions)\n",
    "model.compile(loss=keras.losses.categorical_crossentropy,\n",
    "              optimizer=keras.optimizers.SGD(),\n",
    "              metrics=['accuracy'])"
   ]
  },
  {
   "cell_type": "markdown",
   "metadata": {},
   "source": [
    "### 3. 训练模型。"
   ]
  },
  {
   "cell_type": "code",
   "execution_count": 3,
   "metadata": {},
   "outputs": [
    {
     "name": "stdout",
     "output_type": "stream",
     "text": [
      "Train on 60000 samples, validate on 10000 samples\n",
      "Epoch 1/10\n",
      "60000/60000 [==============================] - 7s 112us/step - loss: 0.6078 - acc: 0.8535 - val_loss: 0.3385 - val_acc: 0.9072\n",
      "Epoch 2/10\n",
      "60000/60000 [==============================] - 6s 106us/step - loss: 0.3219 - acc: 0.9105 - val_loss: 0.2771 - val_acc: 0.9222\n",
      "Epoch 3/10\n",
      "60000/60000 [==============================] - 6s 104us/step - loss: 0.2730 - acc: 0.9233 - val_loss: 0.2468 - val_acc: 0.9330\n",
      "Epoch 4/10\n",
      "60000/60000 [==============================] - 6s 107us/step - loss: 0.2419 - acc: 0.9334 - val_loss: 0.2218 - val_acc: 0.9382\n",
      "Epoch 5/10\n",
      "60000/60000 [==============================] - 6s 104us/step - loss: 0.2185 - acc: 0.9397 - val_loss: 0.2039 - val_acc: 0.9428\n",
      "Epoch 6/10\n",
      "60000/60000 [==============================] - 6s 101us/step - loss: 0.1997 - acc: 0.9454 - val_loss: 0.1860 - val_acc: 0.9476\n",
      "Epoch 7/10\n",
      "60000/60000 [==============================] - 6s 104us/step - loss: 0.1840 - acc: 0.9492 - val_loss: 0.1752 - val_acc: 0.9492\n",
      "Epoch 8/10\n",
      "60000/60000 [==============================] - 6s 104us/step - loss: 0.1707 - acc: 0.9528 - val_loss: 0.1639 - val_acc: 0.9533\n",
      "Epoch 9/10\n",
      "60000/60000 [==============================] - 6s 102us/step - loss: 0.1592 - acc: 0.9560 - val_loss: 0.1558 - val_acc: 0.9550\n",
      "Epoch 10/10\n",
      "60000/60000 [==============================] - 6s 103us/step - loss: 0.1492 - acc: 0.9588 - val_loss: 0.1458 - val_acc: 0.9581\n"
     ]
    },
    {
     "data": {
      "text/plain": [
       "<keras.callbacks.History at 0x1121dbe0>"
      ]
     },
     "execution_count": 3,
     "metadata": {},
     "output_type": "execute_result"
    }
   ],
   "source": [
    "model.fit(trainX, trainY,\n",
    "          batch_size=32,\n",
    "          epochs=10,\n",
    "          validation_data=(testX, testY))"
   ]
  },
  {
   "cell_type": "code",
   "execution_count": null,
   "metadata": {
    "collapsed": true
   },
   "outputs": [],
   "source": []
  }
 ],
 "metadata": {
  "kernelspec": {
   "display_name": "Python 3",
   "language": "python",
   "name": "python3"
  },
  "language_info": {
   "codemirror_mode": {
    "name": "ipython",
    "version": 3
   },
   "file_extension": ".py",
   "mimetype": "text/x-python",
   "name": "python",
   "nbconvert_exporter": "python",
   "pygments_lexer": "ipython3",
   "version": "3.6.5"
  }
 },
 "nbformat": 4,
 "nbformat_minor": 2
}
