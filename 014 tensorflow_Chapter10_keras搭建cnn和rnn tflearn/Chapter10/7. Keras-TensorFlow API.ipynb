{
 "cells": [
  {
   "cell_type": "markdown",
   "metadata": {},
   "source": [
    "### 1. 模型定义。"
   ]
  },
  {
   "cell_type": "code",
   "execution_count": 6,
   "metadata": {},
   "outputs": [
    {
     "name": "stdout",
     "output_type": "stream",
     "text": [
      "Extracting data/train-images-idx3-ubyte.gz\n",
      "Extracting data/train-labels-idx1-ubyte.gz\n",
      "Extracting data/t10k-images-idx3-ubyte.gz\n",
      "Extracting data/t10k-labels-idx1-ubyte.gz\n"
     ]
    }
   ],
   "source": [
    "import tensorflow as tf\n",
    "#from tensorflow.examples.tutorials.mnist import input_data\n",
    "import input_data\n",
    "\n",
    "#mnist_data = input_data.read_data_sets('../../datasets/MNIST_data', one_hot=True)\n",
    "mnist_data = input_data.read_data_sets('data/', one_hot=True)\n",
    "\n",
    "# 通过TensorFlow中的placeholder定义输入。\n",
    "x = tf.placeholder(tf.float32, shape=(None, 784))\n",
    "y_ = tf.placeholder(tf.float32, shape=(None, 10))\n",
    "\n",
    "net = tf.keras.layers.Dense(500, activation='relu')(x)\n",
    "y = tf.keras.layers.Dense(10, activation='softmax')(net)\n",
    "acc_value = tf.reduce_mean(\n",
    "    tf.keras.metrics.categorical_accuracy(y_, y))\n",
    "\n",
    "loss = tf.reduce_mean(tf.keras.losses.categorical_crossentropy(y_, y))\n",
    "train_step = tf.train.GradientDescentOptimizer(0.5).minimize(loss)"
   ]
  },
  {
   "cell_type": "markdown",
   "metadata": {},
   "source": [
    "### 2. 模型训练。"
   ]
  },
  {
   "cell_type": "code",
   "execution_count": 7,
   "metadata": {},
   "outputs": [
    {
     "name": "stdout",
     "output_type": "stream",
     "text": [
      "After 0 training step(s), loss on training batch is 2.30836.\n",
      "After 1000 training step(s), loss on training batch is 0.0299971.\n",
      "After 2000 training step(s), loss on training batch is 0.0304402.\n",
      "0.9795\n"
     ]
    }
   ],
   "source": [
    "with tf.Session() as sess:\n",
    "    tf.global_variables_initializer().run()\n",
    "    for i in range(3000):\n",
    "        xs, ys = mnist_data.train.next_batch(100)\n",
    "        _, loss_value = sess.run([train_step, loss], feed_dict={x: xs, y_: ys})\n",
    "        if i % 1000 == 0:\n",
    "            print(\"After %d training step(s), loss on training batch is %g.\" % (i, loss_value))\n",
    "\n",
    "    print (acc_value.eval(feed_dict={x: mnist_data.test.images,y_: mnist_data.test.labels}))"
   ]
  },
  {
   "cell_type": "code",
   "execution_count": null,
   "metadata": {},
   "outputs": [],
   "source": []
  },
  {
   "cell_type": "code",
   "execution_count": null,
   "metadata": {},
   "outputs": [],
   "source": []
  }
 ],
 "metadata": {
  "kernelspec": {
   "display_name": "Python 3",
   "language": "python",
   "name": "python3"
  },
  "language_info": {
   "codemirror_mode": {
    "name": "ipython",
    "version": 3
   },
   "file_extension": ".py",
   "mimetype": "text/x-python",
   "name": "python",
   "nbconvert_exporter": "python",
   "pygments_lexer": "ipython3",
   "version": "3.6.5"
  }
 },
 "nbformat": 4,
 "nbformat_minor": 2
}
