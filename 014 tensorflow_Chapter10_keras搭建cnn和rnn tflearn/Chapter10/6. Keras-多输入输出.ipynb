{
 "cells": [
  {
   "cell_type": "markdown",
   "metadata": {},
   "source": [
    "### 1. 数据预处理。"
   ]
  },
  {
   "cell_type": "code",
   "execution_count": 1,
   "metadata": {},
   "outputs": [
    {
     "name": "stderr",
     "output_type": "stream",
     "text": [
      "D:\\ProgramData\\Anaconda3\\lib\\site-packages\\h5py\\__init__.py:36: FutureWarning: Conversion of the second argument of issubdtype from `float` to `np.floating` is deprecated. In future, it will be treated as `np.float64 == np.dtype(float).type`.\n",
      "  from ._conv import register_converters as _register_converters\n",
      "Using TensorFlow backend.\n"
     ]
    },
    {
     "name": "stdout",
     "output_type": "stream",
     "text": [
      "curses is not supported on this machine (please install/reinstall curses for an optimal experience)\n"
     ]
    }
   ],
   "source": [
    "import keras\n",
    "from tflearn.layers.core import fully_connected\n",
    "from keras.datasets import mnist\n",
    "from keras.layers import Input, Dense\n",
    "from keras.models import Model\n",
    "\n",
    "num_classes = 10\n",
    "img_rows, img_cols = 28, 28\n",
    " \n",
    "# 通过Keras封装好的API加载MNIST数据。\n",
    "(trainX, trainY), (testX, testY) = mnist.load_data()\n",
    "trainX = trainX.reshape(trainX.shape[0], img_rows * img_cols)\n",
    "testX = testX.reshape(testX.shape[0], img_rows * img_cols)\n",
    "\n",
    "trainX = trainX.astype('float32')\n",
    "testX = testX.astype('float32')\n",
    "trainX /= 255.0\n",
    "testX /= 255.0\n",
    "\n",
    "trainY = keras.utils.to_categorical(trainY, num_classes)\n",
    "testY = keras.utils.to_categorical(testY, num_classes)"
   ]
  },
  {
   "cell_type": "markdown",
   "metadata": {},
   "source": [
    "### 2. 定义模型。"
   ]
  },
  {
   "cell_type": "code",
   "execution_count": 2,
   "metadata": {},
   "outputs": [],
   "source": [
    "# 定义两个输入。\n",
    "input1 = Input(shape=(784,), name = \"input1\")\n",
    "input2 = Input(shape=(10,), name = \"input2\")\n",
    "\n",
    "# 定义第一个输出。\n",
    "x = Dense(1, activation='relu')(input1)\n",
    "output1 = Dense(10, activation='softmax', name = \"output1\")(x)\n",
    "\n",
    "# 定义第二个输出。\n",
    "y = keras.layers.concatenate([x, input2])\n",
    "output2 = Dense(10, activation='softmax', name = \"output2\")(y)\n",
    "\n",
    "model = Model(inputs=[input1, input2], outputs=[output1, output2])\n",
    "\n",
    "# 定义损失函数、优化函数和评测方法。\n",
    "model.compile(loss=keras.losses.categorical_crossentropy,\n",
    "              optimizer=keras.optimizers.SGD(),\n",
    "              loss_weights = [1, 0.1],\n",
    "              metrics=['accuracy'])"
   ]
  },
  {
   "cell_type": "markdown",
   "metadata": {},
   "source": [
    "### 3. 模型训练。"
   ]
  },
  {
   "cell_type": "code",
   "execution_count": 3,
   "metadata": {},
   "outputs": [
    {
     "name": "stdout",
     "output_type": "stream",
     "text": [
      "Train on 60000 samples, validate on 10000 samples\n",
      "Epoch 1/20\n",
      "60000/60000 [==============================] - 1s 10us/step - loss: 2.5310 - output1_loss: 2.3022 - output2_loss: 2.2883 - output1_acc: 0.1120 - output2_acc: 0.1988 - val_loss: 2.5252 - val_output1_loss: 2.2984 - val_output2_loss: 2.2675 - val_output1_acc: 0.1135 - val_output2_acc: 0.2002\n",
      "Epoch 2/20\n",
      "60000/60000 [==============================] - 0s 7us/step - loss: 2.4355 - output1_loss: 2.2028 - output2_loss: 2.3273 - output1_acc: 0.1581 - output2_acc: 0.1961 - val_loss: 2.3520 - val_output1_loss: 2.1141 - val_output2_loss: 2.3787 - val_output1_acc: 0.1926 - val_output2_acc: 0.2404\n",
      "Epoch 3/20\n",
      "60000/60000 [==============================] - 0s 7us/step - loss: 2.2954 - output1_loss: 2.0613 - output2_loss: 2.3411 - output1_acc: 0.2021 - output2_acc: 0.2603 - val_loss: 2.2481 - val_output1_loss: 2.0175 - val_output2_loss: 2.3061 - val_output1_acc: 0.2073 - val_output2_acc: 0.2672\n",
      "Epoch 4/20\n",
      "60000/60000 [==============================] - 0s 7us/step - loss: 2.2121 - output1_loss: 1.9881 - output2_loss: 2.2398 - output1_acc: 0.2124 - output2_acc: 0.2757 - val_loss: 2.1796 - val_output1_loss: 1.9609 - val_output2_loss: 2.1872 - val_output1_acc: 0.2176 - val_output2_acc: 0.2775\n",
      "Epoch 5/20\n",
      "60000/60000 [==============================] - 0s 7us/step - loss: 2.1542 - output1_loss: 1.9424 - output2_loss: 2.1181 - output1_acc: 0.2207 - output2_acc: 0.3171 - val_loss: 2.1303 - val_output1_loss: 1.9237 - val_output2_loss: 2.0662 - val_output1_acc: 0.2249 - val_output2_acc: 0.3522\n",
      "Epoch 6/20\n",
      "60000/60000 [==============================] - 0s 7us/step - loss: 2.1116 - output1_loss: 1.9108 - output2_loss: 2.0082 - output1_acc: 0.2277 - output2_acc: 0.4163 - val_loss: 2.0933 - val_output1_loss: 1.8970 - val_output2_loss: 1.9631 - val_output1_acc: 0.2339 - val_output2_acc: 0.4823\n",
      "Epoch 7/20\n",
      "60000/60000 [==============================] - 0s 6us/step - loss: 2.0794 - output1_loss: 1.8878 - output2_loss: 1.9163 - output1_acc: 0.2355 - output2_acc: 0.4993 - val_loss: 2.0655 - val_output1_loss: 1.8776 - val_output2_loss: 1.8786 - val_output1_acc: 0.2412 - val_output2_acc: 0.4948\n",
      "Epoch 8/20\n",
      "60000/60000 [==============================] - 0s 6us/step - loss: 2.0540 - output1_loss: 1.8700 - output2_loss: 1.8401 - output1_acc: 0.2411 - output2_acc: 0.5172 - val_loss: 2.0420 - val_output1_loss: 1.8614 - val_output2_loss: 1.8063 - val_output1_acc: 0.2475 - val_output2_acc: 0.5198\n",
      "Epoch 9/20\n",
      "60000/60000 [==============================] - 0s 6us/step - loss: 2.0334 - output1_loss: 1.8559 - output2_loss: 1.7752 - output1_acc: 0.2453 - output2_acc: 0.5427 - val_loss: 2.0231 - val_output1_loss: 1.8486 - val_output2_loss: 1.7450 - val_output1_acc: 0.2543 - val_output2_acc: 0.5569\n",
      "Epoch 10/20\n",
      "60000/60000 [==============================] - 0s 6us/step - loss: 2.0161 - output1_loss: 1.8442 - output2_loss: 1.7191 - output1_acc: 0.2497 - output2_acc: 0.5774 - val_loss: 2.0072 - val_output1_loss: 1.8380 - val_output2_loss: 1.6920 - val_output1_acc: 0.2576 - val_output2_acc: 0.5931\n",
      "Epoch 11/20\n",
      "60000/60000 [==============================] - 0s 6us/step - loss: 2.0010 - output1_loss: 1.8341 - output2_loss: 1.6689 - output1_acc: 0.2523 - output2_acc: 0.6019 - val_loss: 1.9925 - val_output1_loss: 1.8281 - val_output2_loss: 1.6444 - val_output1_acc: 0.2633 - val_output2_acc: 0.6203\n",
      "Epoch 12/20\n",
      "60000/60000 [==============================] - 0s 6us/step - loss: 1.9877 - output1_loss: 1.8254 - output2_loss: 1.6229 - output1_acc: 0.2553 - output2_acc: 0.7068 - val_loss: 1.9799 - val_output1_loss: 1.8199 - val_output2_loss: 1.6004 - val_output1_acc: 0.2651 - val_output2_acc: 0.7241\n",
      "Epoch 13/20\n",
      "60000/60000 [==============================] - 0s 6us/step - loss: 1.9754 - output1_loss: 1.8174 - output2_loss: 1.5802 - output1_acc: 0.2585 - output2_acc: 0.7211 - val_loss: 1.9687 - val_output1_loss: 1.8127 - val_output2_loss: 1.5601 - val_output1_acc: 0.2676 - val_output2_acc: 0.7276\n",
      "Epoch 14/20\n",
      "60000/60000 [==============================] - 0s 6us/step - loss: 1.9639 - output1_loss: 1.8098 - output2_loss: 1.5404 - output1_acc: 0.2632 - output2_acc: 0.7295 - val_loss: 1.9574 - val_output1_loss: 1.8052 - val_output2_loss: 1.5215 - val_output1_acc: 0.2683 - val_output2_acc: 0.7361\n",
      "Epoch 15/20\n",
      "60000/60000 [==============================] - 0s 6us/step - loss: 1.9527 - output1_loss: 1.8024 - output2_loss: 1.5024 - output1_acc: 0.2660 - output2_acc: 0.7365 - val_loss: 1.9467 - val_output1_loss: 1.7982 - val_output2_loss: 1.4846 - val_output1_acc: 0.2727 - val_output2_acc: 0.7423\n",
      "Epoch 16/20\n",
      "60000/60000 [==============================] - 0s 6us/step - loss: 1.9416 - output1_loss: 1.7949 - output2_loss: 1.4667 - output1_acc: 0.2663 - output2_acc: 0.7404 - val_loss: 1.9364 - val_output1_loss: 1.7914 - val_output2_loss: 1.4501 - val_output1_acc: 0.2794 - val_output2_acc: 0.7450\n",
      "Epoch 17/20\n",
      "60000/60000 [==============================] - 0s 6us/step - loss: 1.9305 - output1_loss: 1.7873 - output2_loss: 1.4328 - output1_acc: 0.2688 - output2_acc: 0.7433 - val_loss: 1.9256 - val_output1_loss: 1.7838 - val_output2_loss: 1.4174 - val_output1_acc: 0.2796 - val_output2_acc: 0.7432\n",
      "Epoch 18/20\n",
      "60000/60000 [==============================] - 0s 7us/step - loss: 1.9195 - output1_loss: 1.7796 - output2_loss: 1.3995 - output1_acc: 0.2725 - output2_acc: 0.7459 - val_loss: 1.9155 - val_output1_loss: 1.7770 - val_output2_loss: 1.3847 - val_output1_acc: 0.2823 - val_output2_acc: 0.7456\n",
      "Epoch 19/20\n",
      "60000/60000 [==============================] - 0s 6us/step - loss: 1.9086 - output1_loss: 1.7719 - output2_loss: 1.3666 - output1_acc: 0.2745 - output2_acc: 0.8181 - val_loss: 1.9047 - val_output1_loss: 1.7695 - val_output2_loss: 1.3522 - val_output1_acc: 0.2822 - val_output2_acc: 0.8347\n",
      "Epoch 20/20\n",
      "60000/60000 [==============================] - 0s 7us/step - loss: 1.8979 - output1_loss: 1.7644 - output2_loss: 1.3347 - output1_acc: 0.2757 - output2_acc: 0.8409 - val_loss: 1.8948 - val_output1_loss: 1.7628 - val_output2_loss: 1.3204 - val_output1_acc: 0.2817 - val_output2_acc: 0.8614\n"
     ]
    },
    {
     "data": {
      "text/plain": [
       "<keras.callbacks.History at 0x111587f0>"
      ]
     },
     "execution_count": 3,
     "metadata": {},
     "output_type": "execute_result"
    }
   ],
   "source": [
    "model.fit([trainX, trainY], [trainY, trainY],\n",
    "          batch_size=128,\n",
    "          epochs=20,\n",
    "          validation_data=([testX, testY], [testY, testY]))"
   ]
  },
  {
   "cell_type": "code",
   "execution_count": null,
   "metadata": {},
   "outputs": [],
   "source": []
  },
  {
   "cell_type": "code",
   "execution_count": null,
   "metadata": {},
   "outputs": [],
   "source": []
  }
 ],
 "metadata": {
  "kernelspec": {
   "display_name": "Python 3",
   "language": "python",
   "name": "python3"
  },
  "language_info": {
   "codemirror_mode": {
    "name": "ipython",
    "version": 3
   },
   "file_extension": ".py",
   "mimetype": "text/x-python",
   "name": "python",
   "nbconvert_exporter": "python",
   "pygments_lexer": "ipython3",
   "version": "3.6.5"
  }
 },
 "nbformat": 4,
 "nbformat_minor": 2
}
