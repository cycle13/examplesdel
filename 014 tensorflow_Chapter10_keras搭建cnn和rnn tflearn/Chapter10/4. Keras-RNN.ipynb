{
 "cells": [
  {
   "cell_type": "markdown",
   "metadata": {},
   "source": [
    "### 1. 数据预处理。"
   ]
  },
  {
   "cell_type": "code",
   "execution_count": 2,
   "metadata": {},
   "outputs": [
    {
     "name": "stdout",
     "output_type": "stream",
     "text": [
      "Downloading data from https://s3.amazonaws.com/text-datasets/imdb.npz\n",
      "17465344/17464789 [==============================] - 20s 1us/step\n",
      "25000 train sequences\n",
      "25000 test sequences\n",
      "trainX shape: (25000, 80)\n",
      "testX shape: (25000, 80)\n"
     ]
    }
   ],
   "source": [
    "from keras.preprocessing import sequence\n",
    "from keras.models import Sequential\n",
    "from keras.layers import Dense, Embedding\n",
    "from keras.layers import LSTM\n",
    "from keras.datasets import imdb\n",
    "\n",
    "max_features = 20000\n",
    "maxlen = 80  \n",
    "batch_size = 32\n",
    "\n",
    "# 加载数据并将单词转化为ID，max_features给出了最多使用的单词数。\n",
    "(trainX, trainY), (testX, testY) = imdb.load_data(num_words=max_features)\n",
    "print(len(trainX), 'train sequences')\n",
    "print(len(testX), 'test sequences')\n",
    "\n",
    "# 在自然语言中，每一段话的长度是不一样的，但循环神经网络的循环长度是固定的，\n",
    "# 所以这里需要先将所有段落统一成固定长度。\n",
    "trainX = sequence.pad_sequences(trainX, maxlen=maxlen)\n",
    "testX = sequence.pad_sequences(testX, maxlen=maxlen)\n",
    "print('trainX shape:', trainX.shape)\n",
    "print('testX shape:', testX.shape)"
   ]
  },
  {
   "cell_type": "markdown",
   "metadata": {},
   "source": [
    "### 2. 定义模型。"
   ]
  },
  {
   "cell_type": "code",
   "execution_count": 3,
   "metadata": {},
   "outputs": [],
   "source": [
    "model = Sequential()\n",
    "model.add(Embedding(max_features, 128))\n",
    "model.add(LSTM(128, dropout=0.2, recurrent_dropout=0.2))\n",
    "model.add(Dense(1, activation='sigmoid'))\n",
    "\n",
    "model.compile(loss='binary_crossentropy',\n",
    "              optimizer='adam',\n",
    "              metrics=['accuracy'])"
   ]
  },
  {
   "cell_type": "markdown",
   "metadata": {},
   "source": [
    "### 3. 训练、评测模型。"
   ]
  },
  {
   "cell_type": "code",
   "execution_count": 4,
   "metadata": {},
   "outputs": [
    {
     "name": "stdout",
     "output_type": "stream",
     "text": [
      "Train on 25000 samples, validate on 25000 samples\n",
      "Epoch 1/10\n",
      "25000/25000 [==============================] - 160s 6ms/step - loss: 0.4619 - acc: 0.7817 - val_loss: 0.3739 - val_acc: 0.8346\n",
      "Epoch 2/10\n",
      "25000/25000 [==============================] - 160s 6ms/step - loss: 0.2996 - acc: 0.8774 - val_loss: 0.3826 - val_acc: 0.8312\n",
      "Epoch 3/10\n",
      "25000/25000 [==============================] - 160s 6ms/step - loss: 0.2184 - acc: 0.9148 - val_loss: 0.4071 - val_acc: 0.8316\n",
      "Epoch 4/10\n",
      "25000/25000 [==============================] - 158s 6ms/step - loss: 0.1526 - acc: 0.9440 - val_loss: 0.4569 - val_acc: 0.8260\n",
      "Epoch 5/10\n",
      "25000/25000 [==============================] - 156s 6ms/step - loss: 0.1090 - acc: 0.9609 - val_loss: 0.6043 - val_acc: 0.8182\n",
      "Epoch 6/10\n",
      "25000/25000 [==============================] - 157s 6ms/step - loss: 0.0770 - acc: 0.9731 - val_loss: 0.6876 - val_acc: 0.8220\n",
      "Epoch 7/10\n",
      "25000/25000 [==============================] - 156s 6ms/step - loss: 0.0555 - acc: 0.9813 - val_loss: 0.6792 - val_acc: 0.8208\n",
      "Epoch 8/10\n",
      "25000/25000 [==============================] - 157s 6ms/step - loss: 0.0414 - acc: 0.9861 - val_loss: 0.8877 - val_acc: 0.8085\n",
      "Epoch 9/10\n",
      "25000/25000 [==============================] - 156s 6ms/step - loss: 0.0321 - acc: 0.9902 - val_loss: 0.8658 - val_acc: 0.8174\n",
      "Epoch 10/10\n",
      "25000/25000 [==============================] - 157s 6ms/step - loss: 0.0261 - acc: 0.9916 - val_loss: 0.9603 - val_acc: 0.8146\n",
      "25000/25000 [==============================] - 25s 988us/step\n",
      "Test loss: 0.9602670171535015\n",
      "Test accuracy: 0.8146\n"
     ]
    }
   ],
   "source": [
    "model.fit(trainX, trainY,\n",
    "          batch_size=batch_size,\n",
    "          epochs=10,\n",
    "          validation_data=(testX, testY))\n",
    "\n",
    "score = model.evaluate(testX, testY, batch_size=batch_size)\n",
    "print('Test loss:', score[0])\n",
    "print('Test accuracy:', score[1])"
   ]
  },
  {
   "cell_type": "code",
   "execution_count": null,
   "metadata": {
    "collapsed": true
   },
   "outputs": [],
   "source": []
  }
 ],
 "metadata": {
  "kernelspec": {
   "display_name": "Python 3",
   "language": "python",
   "name": "python3"
  },
  "language_info": {
   "codemirror_mode": {
    "name": "ipython",
    "version": 3
   },
   "file_extension": ".py",
   "mimetype": "text/x-python",
   "name": "python",
   "nbconvert_exporter": "python",
   "pygments_lexer": "ipython3",
   "version": "3.6.5"
  }
 },
 "nbformat": 4,
 "nbformat_minor": 2
}
