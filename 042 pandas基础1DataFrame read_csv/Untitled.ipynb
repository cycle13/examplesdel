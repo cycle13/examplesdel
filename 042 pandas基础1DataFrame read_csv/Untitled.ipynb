{
 "cells": [
  {
   "cell_type": "markdown",
   "metadata": {},
   "source": [
    "# pandas"
   ]
  },
  {
   "cell_type": "code",
   "execution_count": 37,
   "metadata": {},
   "outputs": [],
   "source": [
    "import numpy as np"
   ]
  },
  {
   "cell_type": "code",
   "execution_count": 38,
   "metadata": {},
   "outputs": [],
   "source": [
    "import pandas as pd"
   ]
  },
  {
   "cell_type": "code",
   "execution_count": 39,
   "metadata": {},
   "outputs": [],
   "source": [
    "dates = pd.date_range('20181205',periods=6)"
   ]
  },
  {
   "cell_type": "code",
   "execution_count": 40,
   "metadata": {},
   "outputs": [
    {
     "data": {
      "text/plain": [
       "DatetimeIndex(['2018-12-05', '2018-12-06', '2018-12-07', '2018-12-08',\n",
       "               '2018-12-09', '2018-12-10'],\n",
       "              dtype='datetime64[ns]', freq='D')"
      ]
     },
     "execution_count": 40,
     "metadata": {},
     "output_type": "execute_result"
    }
   ],
   "source": [
    "dates"
   ]
  },
  {
   "cell_type": "code",
   "execution_count": 41,
   "metadata": {},
   "outputs": [],
   "source": [
    "df = pd.DataFrame(np.random.randn(6,4),index=dates,columns=list('abcd'))"
   ]
  },
  {
   "cell_type": "code",
   "execution_count": 42,
   "metadata": {},
   "outputs": [
    {
     "data": {
      "text/html": [
       "<div>\n",
       "<style scoped>\n",
       "    .dataframe tbody tr th:only-of-type {\n",
       "        vertical-align: middle;\n",
       "    }\n",
       "\n",
       "    .dataframe tbody tr th {\n",
       "        vertical-align: top;\n",
       "    }\n",
       "\n",
       "    .dataframe thead th {\n",
       "        text-align: right;\n",
       "    }\n",
       "</style>\n",
       "<table border=\"1\" class=\"dataframe\">\n",
       "  <thead>\n",
       "    <tr style=\"text-align: right;\">\n",
       "      <th></th>\n",
       "      <th>a</th>\n",
       "      <th>b</th>\n",
       "      <th>c</th>\n",
       "      <th>d</th>\n",
       "    </tr>\n",
       "  </thead>\n",
       "  <tbody>\n",
       "    <tr>\n",
       "      <th>2018-12-05</th>\n",
       "      <td>1.042858</td>\n",
       "      <td>-1.517499</td>\n",
       "      <td>-0.893357</td>\n",
       "      <td>-1.083218</td>\n",
       "    </tr>\n",
       "    <tr>\n",
       "      <th>2018-12-06</th>\n",
       "      <td>0.505946</td>\n",
       "      <td>0.368404</td>\n",
       "      <td>-1.369853</td>\n",
       "      <td>1.203522</td>\n",
       "    </tr>\n",
       "    <tr>\n",
       "      <th>2018-12-07</th>\n",
       "      <td>0.091071</td>\n",
       "      <td>0.864026</td>\n",
       "      <td>-0.613935</td>\n",
       "      <td>-0.161677</td>\n",
       "    </tr>\n",
       "    <tr>\n",
       "      <th>2018-12-08</th>\n",
       "      <td>0.791359</td>\n",
       "      <td>-0.514177</td>\n",
       "      <td>-0.180630</td>\n",
       "      <td>0.587285</td>\n",
       "    </tr>\n",
       "    <tr>\n",
       "      <th>2018-12-09</th>\n",
       "      <td>0.927072</td>\n",
       "      <td>0.698827</td>\n",
       "      <td>-0.451677</td>\n",
       "      <td>-0.525575</td>\n",
       "    </tr>\n",
       "    <tr>\n",
       "      <th>2018-12-10</th>\n",
       "      <td>-0.351509</td>\n",
       "      <td>1.486617</td>\n",
       "      <td>1.989376</td>\n",
       "      <td>-0.313156</td>\n",
       "    </tr>\n",
       "  </tbody>\n",
       "</table>\n",
       "</div>"
      ],
      "text/plain": [
       "                   a         b         c         d\n",
       "2018-12-05  1.042858 -1.517499 -0.893357 -1.083218\n",
       "2018-12-06  0.505946  0.368404 -1.369853  1.203522\n",
       "2018-12-07  0.091071  0.864026 -0.613935 -0.161677\n",
       "2018-12-08  0.791359 -0.514177 -0.180630  0.587285\n",
       "2018-12-09  0.927072  0.698827 -0.451677 -0.525575\n",
       "2018-12-10 -0.351509  1.486617  1.989376 -0.313156"
      ]
     },
     "execution_count": 42,
     "metadata": {},
     "output_type": "execute_result"
    }
   ],
   "source": [
    "df"
   ]
  },
  {
   "cell_type": "code",
   "execution_count": 43,
   "metadata": {},
   "outputs": [],
   "source": [
    "fj = pd.read_csv('chargeInfo.txt',delim_whitespace=True,header=None,index_col=None)"
   ]
  },
  {
   "cell_type": "code",
   "execution_count": 44,
   "metadata": {},
   "outputs": [
    {
     "data": {
      "text/html": [
       "<div>\n",
       "<style scoped>\n",
       "    .dataframe tbody tr th:only-of-type {\n",
       "        vertical-align: middle;\n",
       "    }\n",
       "\n",
       "    .dataframe tbody tr th {\n",
       "        vertical-align: top;\n",
       "    }\n",
       "\n",
       "    .dataframe thead th {\n",
       "        text-align: right;\n",
       "    }\n",
       "</style>\n",
       "<table border=\"1\" class=\"dataframe\">\n",
       "  <thead>\n",
       "    <tr style=\"text-align: right;\">\n",
       "      <th></th>\n",
       "      <th>0</th>\n",
       "      <th>1</th>\n",
       "      <th>2</th>\n",
       "      <th>3</th>\n",
       "      <th>4</th>\n",
       "      <th>5</th>\n",
       "      <th>6</th>\n",
       "    </tr>\n",
       "  </thead>\n",
       "  <tbody>\n",
       "    <tr>\n",
       "      <th>0</th>\n",
       "      <td>3011056075583</td>\n",
       "      <td>106101233729</td>\n",
       "      <td>1**</td>\n",
       "      <td>南湖国际社区</td>\n",
       "      <td>3室2厅</td>\n",
       "      <td>129.72平米</td>\n",
       "      <td>近30天内成交</td>\n",
       "    </tr>\n",
       "    <tr>\n",
       "      <th>1</th>\n",
       "      <td>3011056075583</td>\n",
       "      <td>106100710202</td>\n",
       "      <td>1*</td>\n",
       "      <td>南湖国际社区</td>\n",
       "      <td>1室0厅</td>\n",
       "      <td>30平米</td>\n",
       "      <td>近30天内成交</td>\n",
       "    </tr>\n",
       "    <tr>\n",
       "      <th>2</th>\n",
       "      <td>3011056075583</td>\n",
       "      <td>106101784218</td>\n",
       "      <td>2**</td>\n",
       "      <td>南湖国际社区</td>\n",
       "      <td>4室2厅</td>\n",
       "      <td>177.5平米</td>\n",
       "      <td>近30天内成交</td>\n",
       "    </tr>\n",
       "    <tr>\n",
       "      <th>3</th>\n",
       "      <td>3011056075583</td>\n",
       "      <td>106101744748</td>\n",
       "      <td>1**</td>\n",
       "      <td>南湖国际社区</td>\n",
       "      <td>3室2厅</td>\n",
       "      <td>128.73平米</td>\n",
       "      <td>近30天内成交</td>\n",
       "    </tr>\n",
       "    <tr>\n",
       "      <th>4</th>\n",
       "      <td>3011056075583</td>\n",
       "      <td>106101591701</td>\n",
       "      <td>1**</td>\n",
       "      <td>南湖国际社区</td>\n",
       "      <td>3室2厅</td>\n",
       "      <td>135平米</td>\n",
       "      <td>近30天内成交</td>\n",
       "    </tr>\n",
       "  </tbody>\n",
       "</table>\n",
       "</div>"
      ],
      "text/plain": [
       "               0             1    2       3     4         5        6\n",
       "0  3011056075583  106101233729  1**  南湖国际社区  3室2厅  129.72平米  近30天内成交\n",
       "1  3011056075583  106100710202   1*  南湖国际社区  1室0厅      30平米  近30天内成交\n",
       "2  3011056075583  106101784218  2**  南湖国际社区  4室2厅   177.5平米  近30天内成交\n",
       "3  3011056075583  106101744748  1**  南湖国际社区  3室2厅  128.73平米  近30天内成交\n",
       "4  3011056075583  106101591701  1**  南湖国际社区  3室2厅     135平米  近30天内成交"
      ]
     },
     "execution_count": 44,
     "metadata": {},
     "output_type": "execute_result"
    }
   ],
   "source": [
    "fj.head()"
   ]
  },
  {
   "cell_type": "code",
   "execution_count": null,
   "metadata": {},
   "outputs": [],
   "source": []
  }
 ],
 "metadata": {
  "kernelspec": {
   "display_name": "Python 3",
   "language": "python",
   "name": "python3"
  },
  "language_info": {
   "codemirror_mode": {
    "name": "ipython",
    "version": 3
   },
   "file_extension": ".py",
   "mimetype": "text/x-python",
   "name": "python",
   "nbconvert_exporter": "python",
   "pygments_lexer": "ipython3",
   "version": "3.7.0"
  }
 },
 "nbformat": 4,
 "nbformat_minor": 2
}
