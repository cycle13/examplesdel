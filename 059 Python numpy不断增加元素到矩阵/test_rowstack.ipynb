{
 "cells": [
  {
   "cell_type": "markdown",
   "metadata": {},
   "source": [
    "# 不断追加数据到矩阵"
   ]
  },
  {
   "cell_type": "code",
   "execution_count": 5,
   "metadata": {},
   "outputs": [],
   "source": [
    "import numpy as np"
   ]
  },
  {
   "cell_type": "code",
   "execution_count": 9,
   "metadata": {},
   "outputs": [],
   "source": [
    "result = np.empty([0,6],dtype=int)"
   ]
  },
  {
   "cell_type": "code",
   "execution_count": 10,
   "metadata": {},
   "outputs": [
    {
     "name": "stdout",
     "output_type": "stream",
     "text": [
      "[]\n"
     ]
    }
   ],
   "source": [
    "print (result)"
   ]
  },
  {
   "cell_type": "code",
   "execution_count": 11,
   "metadata": {},
   "outputs": [
    {
     "name": "stdout",
     "output_type": "stream",
     "text": [
      "squeence 0 is\n",
      " [[3 5 1 7 1 4]]\n",
      "result = \n",
      " [[3 5 1 7 1 4]]\n",
      "squeence 1 is\n",
      " [[0 4 0 7 6 8]]\n",
      "result = \n",
      " [[3 5 1 7 1 4]\n",
      " [0 4 0 7 6 8]]\n",
      "squeence 2 is\n",
      " [[9 4 7 1 3 8]]\n",
      "result = \n",
      " [[3 5 1 7 1 4]\n",
      " [0 4 0 7 6 8]\n",
      " [9 4 7 1 3 8]]\n",
      "squeence 3 is\n",
      " [[2 1 0 9 0 5]]\n",
      "result = \n",
      " [[3 5 1 7 1 4]\n",
      " [0 4 0 7 6 8]\n",
      " [9 4 7 1 3 8]\n",
      " [2 1 0 9 0 5]]\n",
      "squeence 4 is\n",
      " [[6 1 3 7 5 9]]\n",
      "result = \n",
      " [[3 5 1 7 1 4]\n",
      " [0 4 0 7 6 8]\n",
      " [9 4 7 1 3 8]\n",
      " [2 1 0 9 0 5]\n",
      " [6 1 3 7 5 9]]\n",
      "squeence 5 is\n",
      " [[5 3 3 8 0 3]]\n",
      "result = \n",
      " [[3 5 1 7 1 4]\n",
      " [0 4 0 7 6 8]\n",
      " [9 4 7 1 3 8]\n",
      " [2 1 0 9 0 5]\n",
      " [6 1 3 7 5 9]\n",
      " [5 3 3 8 0 3]]\n",
      "squeence 6 is\n",
      " [[6 5 9 3 9 9]]\n",
      "result = \n",
      " [[3 5 1 7 1 4]\n",
      " [0 4 0 7 6 8]\n",
      " [9 4 7 1 3 8]\n",
      " [2 1 0 9 0 5]\n",
      " [6 1 3 7 5 9]\n",
      " [5 3 3 8 0 3]\n",
      " [6 5 9 3 9 9]]\n",
      "squeence 7 is\n",
      " [[2 0 6 0 5 9]]\n",
      "result = \n",
      " [[3 5 1 7 1 4]\n",
      " [0 4 0 7 6 8]\n",
      " [9 4 7 1 3 8]\n",
      " [2 1 0 9 0 5]\n",
      " [6 1 3 7 5 9]\n",
      " [5 3 3 8 0 3]\n",
      " [6 5 9 3 9 9]\n",
      " [2 0 6 0 5 9]]\n",
      "squeence 8 is\n",
      " [[6 8 9 1 8 1]]\n",
      "result = \n",
      " [[3 5 1 7 1 4]\n",
      " [0 4 0 7 6 8]\n",
      " [9 4 7 1 3 8]\n",
      " [2 1 0 9 0 5]\n",
      " [6 1 3 7 5 9]\n",
      " [5 3 3 8 0 3]\n",
      " [6 5 9 3 9 9]\n",
      " [2 0 6 0 5 9]\n",
      " [6 8 9 1 8 1]]\n",
      "squeence 9 is\n",
      " [[4 4 1 8 4 9]]\n",
      "result = \n",
      " [[3 5 1 7 1 4]\n",
      " [0 4 0 7 6 8]\n",
      " [9 4 7 1 3 8]\n",
      " [2 1 0 9 0 5]\n",
      " [6 1 3 7 5 9]\n",
      " [5 3 3 8 0 3]\n",
      " [6 5 9 3 9 9]\n",
      " [2 0 6 0 5 9]\n",
      " [6 8 9 1 8 1]\n",
      " [4 4 1 8 4 9]]\n"
     ]
    }
   ],
   "source": [
    "for i in range(10):\n",
    "    #history = np.random.rand(1,6)\n",
    "    history = np.random.randint(0,10,(1,6))\n",
    "    #print ('squeence %d is %d',%(i,history))\n",
    "    print ('squeence %d is\\n'%i,history)\n",
    "    result = np.row_stack((result,history))\n",
    "    print ('result = \\n',result)"
   ]
  },
  {
   "cell_type": "code",
   "execution_count": null,
   "metadata": {},
   "outputs": [],
   "source": []
  },
  {
   "cell_type": "code",
   "execution_count": null,
   "metadata": {},
   "outputs": [],
   "source": []
  }
 ],
 "metadata": {
  "kernelspec": {
   "display_name": "Python 3",
   "language": "python",
   "name": "python3"
  },
  "language_info": {
   "codemirror_mode": {
    "name": "ipython",
    "version": 3
   },
   "file_extension": ".py",
   "mimetype": "text/x-python",
   "name": "python",
   "nbconvert_exporter": "python",
   "pygments_lexer": "ipython3",
   "version": "3.6.7"
  }
 },
 "nbformat": 4,
 "nbformat_minor": 2
}
