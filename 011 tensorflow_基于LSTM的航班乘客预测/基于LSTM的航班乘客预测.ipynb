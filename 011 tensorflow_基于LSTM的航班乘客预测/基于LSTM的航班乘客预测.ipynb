{
 "cells": [
  {
   "cell_type": "code",
   "execution_count": 1,
   "metadata": {
    "ExecuteTime": {
     "end_time": "2018-06-26T01:58:22.791919Z",
     "start_time": "2018-06-26T01:58:21.536802Z"
    }
   },
   "outputs": [
    {
     "name": "stderr",
     "output_type": "stream",
     "text": [
      "D:\\ProgramData\\Anaconda3\\lib\\site-packages\\h5py\\__init__.py:36: FutureWarning: Conversion of the second argument of issubdtype from `float` to `np.floating` is deprecated. In future, it will be treated as `np.float64 == np.dtype(float).type`.\n",
      "  from ._conv import register_converters as _register_converters\n",
      "Using TensorFlow backend.\n"
     ]
    }
   ],
   "source": [
    "#导入相应的库\n",
    "import numpy\n",
    "import matplotlib.pyplot as plt\n",
    "from pandas import read_csv\n",
    "import math\n",
    "from keras.models import Sequential\n",
    "from keras.layers import Dense\n",
    "from keras.layers import LSTM\n",
    "from keras.utils import plot_model\n",
    "from sklearn.preprocessing import MinMaxScaler\n",
    "from sklearn.metrics import mean_squared_error\n",
    "from IPython.display import SVG\n",
    "from keras.utils.vis_utils import model_to_dot\n",
    "\n",
    "#将数据存储为两个矩阵，一个矩阵的ind位置存储t时刻的值，另一个矩阵存储t+1时刻的值\n",
    "def create_dataset(dataset, look_back=1):\n",
    "    dataX, dataY = [], []\n",
    "    for i in range(len(dataset)-look_back):\n",
    "        a = dataset[i:(i+look_back), 0]\n",
    "        dataX.append(a)\n",
    "        dataY.append(dataset[i + look_back, 0])\n",
    "    return numpy.array(dataX), numpy.array(dataY)"
   ]
  },
  {
   "cell_type": "code",
   "execution_count": 2,
   "metadata": {
    "ExecuteTime": {
     "end_time": "2018-06-26T01:58:22.923397Z",
     "start_time": "2018-06-26T01:58:22.793646Z"
    }
   },
   "outputs": [
    {
     "name": "stdout",
     "output_type": "stream",
     "text": [
      "样本中的前面两个数据: \n",
      " [[112.]\n",
      " [118.]]\n",
      "整个样本的规模:  144\n"
     ]
    },
    {
     "data": {
      "image/png": "[encoded data removed]",
      "text/plain": [
       "<Figure size 432x288 with 1 Axes>"
      ]
     },
     "metadata": {},
     "output_type": "display_data"
    }
   ],
   "source": [
    "# fix random seed for reproducibility\n",
    "numpy.random.seed(7)\n",
    "\n",
    "#读取数据\n",
    "dataframe = read_csv('international-airline-passengers.csv', usecols=[1], engine='python', skipfooter=3)\n",
    "dataset = dataframe.values\n",
    "dataset = dataset.astype('float32')\n",
    "\n",
    "#查看数据集\n",
    "print('样本中的前面两个数据: \\n',dataset[0:2])\n",
    "print('整个样本的规模: ',len(dataset))\n",
    "\n",
    "plt.plot(dataset)\n",
    "plt.show()"
   ]
  },
  {
   "cell_type": "code",
   "execution_count": 3,
   "metadata": {
    "ExecuteTime": {
     "end_time": "2018-06-26T01:58:22.935057Z",
     "start_time": "2018-06-26T01:58:22.924943Z"
    }
   },
   "outputs": [
    {
     "name": "stdout",
     "output_type": "stream",
     "text": [
      "划分数据集后的得到的训练数据和测试数据(训练数据未有标签):  (96, 1) (48, 1)\n"
     ]
    }
   ],
   "source": [
    "#LSTM对输入数据的规模很敏感，特别是在使用sigmoid（默认）或tanh激活函数时。\n",
    "#将数据重新调整到0到1的范围（也称为标准化）可能是一种很好的做法。\n",
    "\n",
    "scaler = MinMaxScaler(feature_range=(0, 1))\n",
    "dataset = scaler.fit_transform(dataset)\n",
    "\n",
    "# 划分训练集与测试集\n",
    "train_size = int(len(dataset) * 0.67)\n",
    "test_size = len(dataset) - train_size\n",
    "train, test = dataset[0:train_size,:], dataset[train_size:len(dataset),:]\n",
    "\n",
    "print('划分数据集后的得到的训练数据和测试数据(训练数据未有标签): ',train.shape,test.shape)"
   ]
  },
  {
   "cell_type": "code",
   "execution_count": 4,
   "metadata": {
    "ExecuteTime": {
     "end_time": "2018-06-26T01:58:22.950864Z",
     "start_time": "2018-06-26T01:58:22.937602Z"
    }
   },
   "outputs": [
    {
     "name": "stdout",
     "output_type": "stream",
     "text": [
      "[[0.01544401]\n",
      " [0.02702703]]\n",
      "[0.02702703 0.05405405]\n",
      "构造得到模型的输入数据(训练数据已有标签trainY):  (95, 1, 1) (47, 1, 1)\n"
     ]
    }
   ],
   "source": [
    "# 生成[t,t+look_back]时间间隔和t+look_back时刻的两个矩阵\n",
    "look_back = 1\n",
    "trainX, trainY = create_dataset(train, look_back)\n",
    "testX, testY = create_dataset(test, look_back)\n",
    "\n",
    "print(trainX[:2])\n",
    "print(trainY[:2])\n",
    "\n",
    "# 数据被Reshape成 [samples, time steps, features]，这是放入LSTM的shape\n",
    "trainX = numpy.reshape(trainX, (trainX.shape[0], 1, trainX.shape[1]))\n",
    "testX = numpy.reshape(testX, (testX.shape[0], 1, testX.shape[1]))\n",
    "\n",
    "print('构造得到模型的输入数据(训练数据已有标签trainY): ',trainX.shape,testX.shape)"
   ]
  },
  {
   "cell_type": "code",
   "execution_count": 5,
   "metadata": {
    "ExecuteTime": {
     "end_time": "2018-06-26T01:58:56.977707Z",
     "start_time": "2018-06-26T01:58:22.952764Z"
    },
    "scrolled": false
   },
   "outputs": [
    {
     "name": "stdout",
     "output_type": "stream",
     "text": [
      "Epoch 1/50\n",
      "95/95 [==============================] - 1s 8ms/step - loss: 0.0405\n",
      "Epoch 2/50\n",
      "95/95 [==============================] - 0s 1ms/step - loss: 0.0198\n",
      "Epoch 3/50\n",
      "95/95 [==============================] - 0s 1ms/step - loss: 0.0147\n",
      "Epoch 4/50\n",
      "95/95 [==============================] - 0s 989us/step - loss: 0.0130\n",
      "Epoch 5/50\n",
      "95/95 [==============================] - 0s 989us/step - loss: 0.0120\n",
      "Epoch 6/50\n",
      "95/95 [==============================] - 0s 1ms/step - loss: 0.0111\n",
      "Epoch 7/50\n",
      "95/95 [==============================] - 0s 1ms/step - loss: 0.0101\n",
      "Epoch 8/50\n",
      "95/95 [==============================] - 0s 1ms/step - loss: 0.0090\n",
      "Epoch 9/50\n",
      "95/95 [==============================] - 0s 1ms/step - loss: 0.0079\n",
      "Epoch 10/50\n",
      "95/95 [==============================] - 0s 1ms/step - loss: 0.0069\n",
      "Epoch 11/50\n",
      "95/95 [==============================] - 0s 1ms/step - loss: 0.0060\n",
      "Epoch 12/50\n",
      "95/95 [==============================] - 0s 1ms/step - loss: 0.0052\n",
      "Epoch 13/50\n",
      "95/95 [==============================] - 0s 1ms/step - loss: 0.0044\n",
      "Epoch 14/50\n",
      "95/95 [==============================] - 0s 1ms/step - loss: 0.0037\n",
      "Epoch 15/50\n",
      "95/95 [==============================] - 0s 1ms/step - loss: 0.0033\n",
      "Epoch 16/50\n",
      "95/95 [==============================] - 0s 1ms/step - loss: 0.0029\n",
      "Epoch 17/50\n",
      "95/95 [==============================] - 0s 989us/step - loss: 0.0026\n",
      "Epoch 18/50\n",
      "95/95 [==============================] - 0s 1ms/step - loss: 0.0024\n",
      "Epoch 19/50\n",
      "95/95 [==============================] - 0s 1ms/step - loss: 0.0023\n",
      "Epoch 20/50\n",
      "95/95 [==============================] - 0s 1ms/step - loss: 0.0022\n",
      "Epoch 21/50\n",
      "95/95 [==============================] - 0s 1ms/step - loss: 0.0021\n",
      "Epoch 22/50\n",
      "95/95 [==============================] - 0s 1ms/step - loss: 0.0021\n",
      "Epoch 23/50\n",
      "95/95 [==============================] - 0s 1ms/step - loss: 0.0022\n",
      "Epoch 24/50\n",
      "95/95 [==============================] - 0s 1ms/step - loss: 0.0022\n",
      "Epoch 25/50\n",
      "95/95 [==============================] - 0s 1ms/step - loss: 0.0021\n",
      "Epoch 26/50\n",
      "95/95 [==============================] - 0s 1ms/step - loss: 0.0021\n",
      "Epoch 27/50\n",
      "95/95 [==============================] - 0s 1ms/step - loss: 0.0021\n",
      "Epoch 28/50\n",
      "95/95 [==============================] - 0s 1ms/step - loss: 0.0021\n",
      "Epoch 29/50\n",
      "95/95 [==============================] - 0s 1ms/step - loss: 0.0021\n",
      "Epoch 30/50\n",
      "95/95 [==============================] - 0s 1ms/step - loss: 0.0021\n",
      "Epoch 31/50\n",
      "95/95 [==============================] - 0s 1ms/step - loss: 0.0021\n",
      "Epoch 32/50\n",
      "95/95 [==============================] - 0s 1ms/step - loss: 0.0021\n",
      "Epoch 33/50\n",
      "95/95 [==============================] - 0s 1ms/step - loss: 0.0021\n",
      "Epoch 34/50\n",
      "95/95 [==============================] - 0s 1ms/step - loss: 0.0021\n",
      "Epoch 35/50\n",
      "95/95 [==============================] - 0s 1ms/step - loss: 0.0021\n",
      "Epoch 36/50\n",
      "95/95 [==============================] - 0s 989us/step - loss: 0.0021\n",
      "Epoch 37/50\n",
      "95/95 [==============================] - 0s 1ms/step - loss: 0.0021\n",
      "Epoch 38/50\n",
      "95/95 [==============================] - 0s 1ms/step - loss: 0.0021\n",
      "Epoch 39/50\n",
      "95/95 [==============================] - 0s 1ms/step - loss: 0.0021\n",
      "Epoch 40/50\n",
      "95/95 [==============================] - 0s 1ms/step - loss: 0.0021\n",
      "Epoch 41/50\n",
      "95/95 [==============================] - 0s 989us/step - loss: 0.0021\n",
      "Epoch 42/50\n",
      "95/95 [==============================] - 0s 1ms/step - loss: 0.0020\n",
      "Epoch 43/50\n",
      "95/95 [==============================] - 0s 1ms/step - loss: 0.0020\n",
      "Epoch 44/50\n",
      "95/95 [==============================] - 0s 1ms/step - loss: 0.0021\n",
      "Epoch 45/50\n",
      "95/95 [==============================] - 0s 1ms/step - loss: 0.0021\n",
      "Epoch 46/50\n",
      "95/95 [==============================] - 0s 989us/step - loss: 0.0021\n",
      "Epoch 47/50\n",
      "95/95 [==============================] - 0s 989us/step - loss: 0.0021\n",
      "Epoch 48/50\n",
      "95/95 [==============================] - 0s 1ms/step - loss: 0.0021\n",
      "Epoch 49/50\n",
      "95/95 [==============================] - 0s 1ms/step - loss: 0.0022\n",
      "Epoch 50/50\n",
      "95/95 [==============================] - 0s 1ms/step - loss: 0.0020\n",
      "_________________________________________________________________\n",
      "Layer (type)                 Output Shape              Param #   \n",
      "=================================================================\n",
      "lstm_1 (LSTM)                (None, 4)                 96        \n",
      "_________________________________________________________________\n",
      "dense_1 (Dense)              (None, 1)                 5         \n",
      "=================================================================\n",
      "Total params: 101\n",
      "Trainable params: 101\n",
      "Non-trainable params: 0\n",
      "_________________________________________________________________\n"
     ]
    },
    {
     "data": {
      "image/svg+xml": [
       "<svg height=\"211pt\" viewBox=\"0.00 0.00 246.00 211.00\" width=\"246pt\" xmlns=\"http://www.w3.org/2000/svg\" xmlns:xlink=\"http://www.w3.org/1999/xlink\">\n",
       "<g class=\"graph\" id=\"graph0\" transform=\"scale(1 1) rotate(0) translate(4 207)\">\n",
       "<title>G</title>\n",
       "<polygon fill=\"white\" points=\"-4,4 -4,-207 242,-207 242,4 -4,4\" stroke=\"none\"/>\n",
       "<!-- 80263040 -->\n",
       "<g class=\"node\" id=\"node1\"><title>80263040</title>\n",
       "<polygon fill=\"none\" points=\"0,-83.5 0,-129.5 238,-129.5 238,-83.5 0,-83.5\" stroke=\"black\"/>\n",
       "<text font-family=\"Times New Roman,serif\" font-size=\"14.00\" text-anchor=\"middle\" x=\"49\" y=\"-102.8\">lstm_1: LSTM</text>\n",
       "<polyline fill=\"none\" points=\"98,-83.5 98,-129.5 \" stroke=\"black\"/>\n",
       "<text font-family=\"Times New Roman,serif\" font-size=\"14.00\" text-anchor=\"middle\" x=\"126\" y=\"-114.3\">input:</text>\n",
       "<polyline fill=\"none\" points=\"98,-106.5 154,-106.5 \" stroke=\"black\"/>\n",
       "<text font-family=\"Times New Roman,serif\" font-size=\"14.00\" text-anchor=\"middle\" x=\"126\" y=\"-91.3\">output:</text>\n",
       "<polyline fill=\"none\" points=\"154,-83.5 154,-129.5 \" stroke=\"black\"/>\n",
       "<text font-family=\"Times New Roman,serif\" font-size=\"14.00\" text-anchor=\"middle\" x=\"196\" y=\"-114.3\">(None, 1, 1)</text>\n",
       "<polyline fill=\"none\" points=\"154,-106.5 238,-106.5 \" stroke=\"black\"/>\n",
       "<text font-family=\"Times New Roman,serif\" font-size=\"14.00\" text-anchor=\"middle\" x=\"196\" y=\"-91.3\">(None, 4)</text>\n",
       "</g>\n",
       "<!-- 248353400 -->\n",
       "<g class=\"node\" id=\"node2\"><title>248353400</title>\n",
       "<polygon fill=\"none\" points=\"4,-0.5 4,-46.5 234,-46.5 234,-0.5 4,-0.5\" stroke=\"black\"/>\n",
       "<text font-family=\"Times New Roman,serif\" font-size=\"14.00\" text-anchor=\"middle\" x=\"56\" y=\"-19.8\">dense_1: Dense</text>\n",
       "<polyline fill=\"none\" points=\"108,-0.5 108,-46.5 \" stroke=\"black\"/>\n",
       "<text font-family=\"Times New Roman,serif\" font-size=\"14.00\" text-anchor=\"middle\" x=\"136\" y=\"-31.3\">input:</text>\n",
       "<polyline fill=\"none\" points=\"108,-23.5 164,-23.5 \" stroke=\"black\"/>\n",
       "<text font-family=\"Times New Roman,serif\" font-size=\"14.00\" text-anchor=\"middle\" x=\"136\" y=\"-8.3\">output:</text>\n",
       "<polyline fill=\"none\" points=\"164,-0.5 164,-46.5 \" stroke=\"black\"/>\n",
       "<text font-family=\"Times New Roman,serif\" font-size=\"14.00\" text-anchor=\"middle\" x=\"199\" y=\"-31.3\">(None, 4)</text>\n",
       "<polyline fill=\"none\" points=\"164,-23.5 234,-23.5 \" stroke=\"black\"/>\n",
       "<text font-family=\"Times New Roman,serif\" font-size=\"14.00\" text-anchor=\"middle\" x=\"199\" y=\"-8.3\">(None, 1)</text>\n",
       "</g>\n",
       "<!-- 80263040&#45;&gt;248353400 -->\n",
       "<g class=\"edge\" id=\"edge2\"><title>80263040-&gt;248353400</title>\n",
       "<path d=\"M119,-83.3664C119,-75.1516 119,-65.6579 119,-56.7252\" fill=\"none\" stroke=\"black\"/>\n",
       "<polygon fill=\"black\" points=\"122.5,-56.6068 119,-46.6068 115.5,-56.6069 122.5,-56.6068\" stroke=\"black\"/>\n",
       "</g>\n",
       "<!-- 252817592 -->\n",
       "<g class=\"node\" id=\"node3\"><title>252817592</title>\n",
       "<polygon fill=\"none\" points=\"80.5,-166.5 80.5,-202.5 157.5,-202.5 157.5,-166.5 80.5,-166.5\" stroke=\"black\"/>\n",
       "<text font-family=\"Times New Roman,serif\" font-size=\"14.00\" text-anchor=\"middle\" x=\"119\" y=\"-180.8\">252817592</text>\n",
       "</g>\n",
       "<!-- 252817592&#45;&gt;80263040 -->\n",
       "<g class=\"edge\" id=\"edge1\"><title>252817592-&gt;80263040</title>\n",
       "<path d=\"M119,-166.254C119,-158.363 119,-148.749 119,-139.602\" fill=\"none\" stroke=\"black\"/>\n",
       "<polygon fill=\"black\" points=\"122.5,-139.591 119,-129.591 115.5,-139.591 122.5,-139.591\" stroke=\"black\"/>\n",
       "</g>\n",
       "</g>\n",
       "</svg>"
      ],
      "text/plain": [
       "<IPython.core.display.SVG object>"
      ]
     },
     "execution_count": 5,
     "metadata": {},
     "output_type": "execute_result"
    }
   ],
   "source": [
    "#构建LSTM网络\n",
    "model = Sequential()\n",
    "model.add(LSTM(4, input_shape=(1, look_back)))\n",
    "model.add(Dense(1))\n",
    "\n",
    "#编译训练LSTM网络\n",
    "model.compile(loss='mean_squared_error', optimizer='adam')\n",
    "model.fit(trainX, trainY, epochs=50, batch_size=1, verbose=1)\n",
    "\n",
    "#打印模型\n",
    "model.summary()\n",
    "\n",
    "#保存模型\n",
    "SVG(model_to_dot(model,show_shapes=True).create(prog='dot', format='svg'))"
   ]
  },
  {
   "cell_type": "code",
   "execution_count": 6,
   "metadata": {
    "ExecuteTime": {
     "end_time": "2018-06-26T01:58:57.275716Z",
     "start_time": "2018-06-26T01:58:56.979511Z"
    }
   },
   "outputs": [
    {
     "name": "stdout",
     "output_type": "stream",
     "text": [
      "Train Score: 23.39 RMSE\n",
      "Test Score: 46.92 RMSE\n"
     ]
    },
    {
     "data": {
      "image/png": "[encoded data removed]",
      "text/plain": [
       "<Figure size 432x288 with 1 Axes>"
      ]
     },
     "metadata": {},
     "output_type": "display_data"
    }
   ],
   "source": [
    "# 使用已训练的模型进行预测\n",
    "trainPredict = model.predict(trainX)\n",
    "testPredict = model.predict(testX)\n",
    "\n",
    "# 预测的值是[0,1]这样的标准化数据，需要将该值转换回原始值\n",
    "trainPredict = scaler.inverse_transform(trainPredict)\n",
    "trainY = scaler.inverse_transform([trainY])\n",
    "testPredict = scaler.inverse_transform(testPredict)\n",
    "testY = scaler.inverse_transform([testY])\n",
    "\n",
    "\n",
    "# 计算预测的均方根误差\n",
    "trainScore = math.sqrt(mean_squared_error(trainY[0], trainPredict[:,0]))\n",
    "print('Train Score: %.2f RMSE' % (trainScore))\n",
    "testScore = math.sqrt(mean_squared_error(testY[0], testPredict[:,0]))\n",
    "print('Test Score: %.2f RMSE' % (testScore))\n",
    "\n",
    "# 画图：对训练数据的预测\n",
    "trainPredictPlot = numpy.empty_like(dataset)\n",
    "trainPredictPlot[:, :] = numpy.nan\n",
    "trainPredictPlot[look_back:len(trainPredict)+look_back, :] = trainPredict\n",
    "\n",
    "\n",
    "# 画图：对测试数据的预测\n",
    "testPredictPlot = numpy.empty_like(dataset)\n",
    "testPredictPlot[:, :] = numpy.nan\n",
    "#testPredictPlot[len(trainPredict)+(look_back*2)+1:len(dataset)-1, :] = testPredict\n",
    "testPredictPlot[len(trainPredict)+look_back:len(dataset)-1, :] = testPredict\n",
    "\n",
    "# 显示图片\n",
    "plt.plot(scaler.inverse_transform(dataset),color='blue',label='Raw data')\n",
    "plt.plot(trainPredictPlot,color='red',label='Train process')\n",
    "plt.plot(testPredictPlot,color='green',label='Test process')\n",
    "\n",
    "#在折线图上显示标签\n",
    "leg = plt.legend(loc='best', ncol=1, fancybox=True)\n",
    "leg.get_frame().set_alpha(0.5)\n",
    "\n",
    "plt.show()"
   ]
  },
  {
   "cell_type": "code",
   "execution_count": 7,
   "metadata": {
    "ExecuteTime": {
     "end_time": "2018-06-26T01:58:57.288796Z",
     "start_time": "2018-06-26T01:58:57.277519Z"
    }
   },
   "outputs": [
    {
     "name": "stdout",
     "output_type": "stream",
     "text": [
      "模型预测1961年1月份的国际航班人数是:  [[430.2554]]\n"
     ]
    }
   ],
   "source": [
    "#测试数据的最后一个数据没有预测,这里补上\n",
    "finalX = numpy.reshape(test[-1], (1, 1, testX.shape[1]))\n",
    "\n",
    "#预测得到标准化数据\n",
    "featruePredict = model.predict(finalX)\n",
    "\n",
    "#将标准化数据转换为人数\n",
    "featruePredict = scaler.inverse_transform(featruePredict)\n",
    "\n",
    "#原始数据是1949-1960年的数据,下一个月是1961年1月份\n",
    "print('模型预测1961年1月份的国际航班人数是: ',featruePredict)"
   ]
  },
  {
   "cell_type": "code",
   "execution_count": null,
   "metadata": {},
   "outputs": [],
   "source": []
  },
  {
   "cell_type": "code",
   "execution_count": null,
   "metadata": {},
   "outputs": [],
   "source": []
  }
 ],
 "metadata": {
  "kernelspec": {
   "display_name": "Python 3",
   "language": "python",
   "name": "python3"
  },
  "language_info": {
   "codemirror_mode": {
    "name": "ipython",
    "version": 3
   },
   "file_extension": ".py",
   "mimetype": "text/x-python",
   "name": "python",
   "nbconvert_exporter": "python",
   "pygments_lexer": "ipython3",
   "version": "3.6.5"
  }
 },
 "nbformat": 4,
 "nbformat_minor": 2
}
